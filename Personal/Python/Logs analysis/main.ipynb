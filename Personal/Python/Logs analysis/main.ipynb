{
 "cells": [
  {
   "cell_type": "code",
   "execution_count": null,
   "metadata": {},
   "outputs": [],
   "source": [
    "import matplotlib.pyplot as plt\n",
    "import numpy as np\n",
    "import pandas as pd\n",
    "import re\n",
    "import os"
   ]
  },
  {
   "cell_type": "code",
   "execution_count": null,
   "metadata": {},
   "outputs": [],
   "source": [
    "U_REG = r\"u:\\s*(\\S+)\"\n",
    "P_REG = r\"p:\\s*(\\S+)\"\n",
    "\n",
    "LOGS_PATH = \"./logs/\"\n",
    "\n",
    "user_list = []\n",
    "pass_list = []\n",
    "log_list = []"
   ]
  },
  {
   "cell_type": "code",
   "execution_count": null,
   "metadata": {},
   "outputs": [],
   "source": [
    "def cred_analysis(filepath: str) -> list:\n",
    "    with open(filepath, \"r\") as file:\n",
    "        text = file.read()\n",
    "        username = re.findall(U_REG, text)\n",
    "        password = re.findall(P_REG, text)\n",
    "    return username, password"
   ]
  },
  {
   "cell_type": "code",
   "execution_count": null,
   "metadata": {},
   "outputs": [],
   "source": [
    "file_list = [fileName for fileName in os.listdir(LOGS_PATH) if fileName.endswith(\".txt\")]\n",
    "\n",
    "file_list"
   ]
  },
  {
   "cell_type": "code",
   "execution_count": null,
   "metadata": {},
   "outputs": [],
   "source": [
    "for file_name in file_list:\n",
    "    filepath = LOGS_PATH+file_name\n",
    "    try:\n",
    "        usernames, passwords = cred_analysis(filepath=filepath)\n",
    "        # users[file_name] = {\n",
    "        #     'usernames': username,\n",
    "        #     'passwords': password\n",
    "        # }\n",
    "        if not usernames and not passwords:\n",
    "            print(f\"Empty lists\")\n",
    "        else:\n",
    "            for username in usernames:\n",
    "                user_list.append(username)\n",
    "            for password in passwords:\n",
    "                pass_list.append(password)\n",
    "            log_list.append(file_name)\n",
    "\n",
    "    except Exception as e:\n",
    "        print(f\"There was an error reading file {file_name} at location {filepath}: {e}\")\n",
    "\n",
    "users={\n",
    "    \"Log file\": log_list,\n",
    "    \"Usernames\": user_list,\n",
    "    \"Passwords\": pass_list\n",
    "}\n",
    "\n",
    "users"
   ]
  },
  {
   "cell_type": "code",
   "execution_count": null,
   "metadata": {},
   "outputs": [],
   "source": [
    "log_df = pd.DataFrame(data=users)\n",
    "log_df"
   ]
  },
  {
   "cell_type": "code",
   "execution_count": null,
   "metadata": {},
   "outputs": [],
   "source": []
  }
 ],
 "metadata": {
  "kernelspec": {
   "display_name": "infosec",
   "language": "python",
   "name": "python3"
  },
  "language_info": {
   "codemirror_mode": {
    "name": "ipython",
    "version": 3
   },
   "file_extension": ".py",
   "mimetype": "text/x-python",
   "name": "python",
   "nbconvert_exporter": "python",
   "pygments_lexer": "ipython3",
   "version": "3.9.18"
  }
 },
 "nbformat": 4,
 "nbformat_minor": 2
}
